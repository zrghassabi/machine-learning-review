{
 "cells": [
  {
   "cell_type": "code",
   "execution_count": 1,
   "metadata": {},
   "outputs": [],
   "source": [
    "import csv"
   ]
  },
  {
   "cell_type": "code",
   "execution_count": 2,
   "metadata": {},
   "outputs": [
    {
     "data": {
      "text/plain": [
       "_io.TextIOWrapper"
      ]
     },
     "execution_count": 2,
     "metadata": {},
     "output_type": "execute_result"
    }
   ],
   "source": [
    "file = open('Salary.csv')\n",
    "\n",
    "type(file)"
   ]
  },
  {
   "cell_type": "code",
   "execution_count": 3,
   "metadata": {},
   "outputs": [],
   "source": [
    "csvreader = csv.reader(file)"
   ]
  },
  {
   "cell_type": "code",
   "execution_count": 4,
   "metadata": {},
   "outputs": [
    {
     "data": {
      "text/plain": [
       "['', 'PHD', 'MBA', 'experience', 'salary']"
      ]
     },
     "execution_count": 4,
     "metadata": {},
     "output_type": "execute_result"
    }
   ],
   "source": [
    "header = []\n",
    "header = next(csvreader)\n",
    "header"
   ]
  },
  {
   "cell_type": "code",
   "execution_count": 5,
   "metadata": {},
   "outputs": [
    {
     "data": {
      "text/plain": [
       "[['0', '0', '0', '1', '95680.89008'],\n",
       " ['1', '0', '0', '2', '85360.44112'],\n",
       " ['2', '0', '0', '3', '109604.7703'],\n",
       " ['3', '0', '1', '4', '124632.2667'],\n",
       " ['4', '0', '1', '5', '115637.9933'],\n",
       " ['5', '0', '0', '6', '107554.6795'],\n",
       " ['6', '0', '0', '7', '173140.4631'],\n",
       " ['7', '0', '0', '8', '145713.6909'],\n",
       " ['8', '0', '1', '9', '179704.0879'],\n",
       " ['9', '0', '1', '10', '169442.2813'],\n",
       " ['10', '0', '0', '11', '132054.7539'],\n",
       " ['11', '0', '1', '12', '132791.7079'],\n",
       " ['12', '0', '1', '13', '209351.8798'],\n",
       " ['13', '0', '1', '14', '178863.1777'],\n",
       " ['14', '0', '0', '15', '122491.4413'],\n",
       " ['15', '0', '0', '16', '156568.079'],\n",
       " ['16', '0', '1', '17', '151133.7818'],\n",
       " ['17', '0', '1', '18', '238712.2289'],\n",
       " ['18', '0', '1', '19', '169882.3424'],\n",
       " ['19', '0', '1', '20', '145812.6666'],\n",
       " ['20', '0', '1', '21', '210378.922'],\n",
       " ['21', '0', '1', '22', '203959.7595'],\n",
       " ['22', '0', '1', '23', '246403.0577'],\n",
       " ['23', '0', '1', '24', '220123.1236'],\n",
       " ['24', '0', '1', '25', '227794.4223'],\n",
       " ['25', '0', '1', '26', '254555.453'],\n",
       " ['26', '0', '1', '27', '211238.8448'],\n",
       " ['27', '1', '1', '28', '235104.4062'],\n",
       " ['28', '0', '0', '29', '276782.9777'],\n",
       " ['29', '0', '1', '30', '241565.8342'],\n",
       " ['30', '0', '0', '1', '158970.262'],\n",
       " ['31', '0', '1', '2', '128509.281'],\n",
       " ['32', '0', '1', '3', '187512.7974'],\n",
       " ['33', '0', '1', '4', '145521.6432'],\n",
       " ['34', '0', '1', '5', '87952.9437'],\n",
       " ['35', '1', '1', '6', '153721.1165'],\n",
       " ['36', '0', '1', '7', '164373.6351'],\n",
       " ['37', '0', '0', '8', '120977.0223'],\n",
       " ['38', '0', '1', '9', '113208.7216'],\n",
       " ['39', '0', '0', '10', '110427.371'],\n",
       " ['40', '0', '0', '11', '200424.0989'],\n",
       " ['41', '0', '1', '12', '162224.3682'],\n",
       " ['42', '0', '1', '13', '202621.8953'],\n",
       " ['43', '0', '1', '14', '186325.9827'],\n",
       " ['44', '0', '0', '15', '182731.0014'],\n",
       " ['45', '0', '0', '16', '183497.9027'],\n",
       " ['46', '0', '1', '17', '211559.3764'],\n",
       " ['47', '0', '0', '18', '179533.5665'],\n",
       " ['48', '0', '1', '19', '204601.734'],\n",
       " ['49', '0', '0', '20', '180549.1653'],\n",
       " ['50', '0', '1', '21', '206867.6501'],\n",
       " ['51', '0', '1', '22', '214599.3687'],\n",
       " ['52', '0', '1', '23', '203523.3473'],\n",
       " ['53', '0', '1', '24', '256520.3703'],\n",
       " ['54', '1', '1', '25', '287372.5239'],\n",
       " ['55', '0', '1', '26', '200000.3572'],\n",
       " ['56', '0', '1', '27', '230931.3128'],\n",
       " ['57', '0', '1', '28', '253442.8848'],\n",
       " ['58', '0', '1', '29', '282174.8378'],\n",
       " ['59', '0', '1', '30', '255946.802'],\n",
       " ['60', '0', '0', '1', '138224.6081'],\n",
       " ['61', '0', '1', '2', '108491.919'],\n",
       " ['62', '0', '1', '3', '130019.4356'],\n",
       " ['63', '0', '0', '4', '102741.9089'],\n",
       " ['64', '0', '1', '5', '147810.9889'],\n",
       " ['65', '0', '0', '6', '119304.4509'],\n",
       " ['66', '1', '0', '7', '172771.6691'],\n",
       " ['67', '0', '1', '8', '217467.5723'],\n",
       " ['68', '1', '0', '9', '178637.0952'],\n",
       " ['69', '0', '0', '10', '155682.6398'],\n",
       " ['70', '0', '0', '11', '171158.3227'],\n",
       " ['71', '0', '0', '12', '251264.6036'],\n",
       " ['72', '0', '1', '13', '175488.1733'],\n",
       " ['73', '0', '0', '14', '189866.3563'],\n",
       " ['74', '0', '1', '15', '202392.4911'],\n",
       " ['75', '0', '1', '16', '205439.4592'],\n",
       " ['76', '0', '1', '17', '212000.4542'],\n",
       " ['77', '0', '0', '18', '163268.5424'],\n",
       " ['78', '1', '1', '19', '225968.4139'],\n",
       " ['79', '0', '1', '20', '172980.9966'],\n",
       " ['80', '0', '1', '21', '179475.9841'],\n",
       " ['81', '0', '1', '22', '173415.6908'],\n",
       " ['82', '0', '1', '23', '217013.1569'],\n",
       " ['83', '1', '1', '24', '252966.729'],\n",
       " ['84', '0', '1', '25', '180907.1853'],\n",
       " ['85', '0', '1', '26', '264284.9095'],\n",
       " ['86', '0', '1', '27', '209882.4954'],\n",
       " ['87', '0', '0', '28', '215597.3511'],\n",
       " ['88', '0', '1', '29', '257248.6888'],\n",
       " ['89', '0', '1', '30', '253121.5455'],\n",
       " ['90', '0', '0', '1', '140239.2217'],\n",
       " ['91', '0', '0', '2', '71157.29316'],\n",
       " ['92', '0', '1', '3', '99070.44077'],\n",
       " ['93', '0', '1', '4', '111212.8703'],\n",
       " ['94', '0', '0', '5', '151071.1198'],\n",
       " ['95', '0', '1', '6', '89925.82823'],\n",
       " ['96', '0', '1', '7', '150018.4009'],\n",
       " ['97', '0', '1', '8', '195027.5363'],\n",
       " ['98', '0', '0', '9', '170675.1912'],\n",
       " ['99', '1', '0', '10', '208737.0831'],\n",
       " ['100', '0', '1', '11', '190652.1975'],\n",
       " ['101', '0', '1', '12', '193963.1174'],\n",
       " ['102', '0', '1', '13', '193353.681'],\n",
       " ['103', '0', '1', '14', '243286.9437'],\n",
       " ['104', '0', '0', '15', '161681.4897'],\n",
       " ['105', '0', '0', '16', '197026.3397'],\n",
       " ['106', '0', '0', '17', '145554.6714'],\n",
       " ['107', '0', '1', '18', '200750.1793'],\n",
       " ['108', '0', '0', '19', '181734.5969'],\n",
       " ['109', '0', '1', '20', '179638.4403'],\n",
       " ['110', '0', '1', '21', '164723.4316'],\n",
       " ['111', '0', '1', '22', '205991.8442'],\n",
       " ['112', '0', '1', '23', '252481.5876'],\n",
       " ['113', '0', '1', '24', '238078.5177'],\n",
       " ['114', '0', '1', '25', '206526.7223'],\n",
       " ['115', '1', '1', '26', '310805.0934'],\n",
       " ['116', '0', '0', '27', '210154.5875'],\n",
       " ['117', '0', '1', '28', '217515.9923'],\n",
       " ['118', '0', '1', '29', '231524.2698'],\n",
       " ['119', '0', '1', '30', '242559.4812'],\n",
       " ['120', '0', '1', '1', '63532.81308'],\n",
       " ['121', '0', '1', '2', '92135.41265'],\n",
       " ['122', '0', '1', '3', '90861.54721'],\n",
       " ['123', '0', '0', '4', '129773.7749'],\n",
       " ['124', '0', '1', '5', '136982.8652'],\n",
       " ['125', '1', '1', '6', '89473.94831'],\n",
       " ['126', '0', '1', '7', '140156.25'],\n",
       " ['127', '0', '1', '8', '138938.62'],\n",
       " ['128', '1', '0', '9', '146051.2453'],\n",
       " ['129', '0', '0', '10', '157402.4228'],\n",
       " ['130', '0', '1', '11', '221882.4091'],\n",
       " ['131', '0', '1', '12', '144598.2429'],\n",
       " ['132', '0', '0', '13', '188063.1454'],\n",
       " ['133', '0', '1', '14', '154876.371'],\n",
       " ['134', '0', '1', '15', '202977.8078'],\n",
       " ['135', '0', '1', '16', '230264.3617'],\n",
       " ['136', '0', '1', '17', '161182.8293'],\n",
       " ['137', '0', '0', '18', '214024.3165'],\n",
       " ['138', '0', '1', '19', '247536.5472'],\n",
       " ['139', '0', '0', '20', '275149.793'],\n",
       " ['140', '0', '1', '21', '237818.7722'],\n",
       " ['141', '0', '0', '22', '150117.4547'],\n",
       " ['142', '0', '1', '23', '221142.9712'],\n",
       " ['143', '0', '0', '24', '238609.1546'],\n",
       " ['144', '0', '1', '25', '238761.8383'],\n",
       " ['145', '0', '1', '26', '267081.6946'],\n",
       " ['146', '0', '1', '27', '281345.8731'],\n",
       " ['147', '0', '1', '28', '247256.1295'],\n",
       " ['148', '0', '0', '29', '245189.0729'],\n",
       " ['149', '1', '1', '30', '342048.8182'],\n",
       " ['150', '0', '0', '1', '115676.9476'],\n",
       " ['151', '0', '0', '2', '62942.00704'],\n",
       " ['152', '0', '0', '3', '125607.2996'],\n",
       " ['153', '0', '1', '4', '133858.0132'],\n",
       " ['154', '0', '0', '5', '114598.8308'],\n",
       " ['155', '0', '0', '6', '127137.9444'],\n",
       " ['156', '0', '0', '7', '143512.0193'],\n",
       " ['157', '0', '1', '8', '120944.0227'],\n",
       " ['158', '0', '0', '9', '151936.321'],\n",
       " ['159', '0', '1', '10', '149982.3697'],\n",
       " ['160', '0', '1', '11', '286019.4646'],\n",
       " ['161', '0', '1', '12', '210013.3024'],\n",
       " ['162', '1', '1', '13', '187259.6334'],\n",
       " ['163', '0', '1', '14', '171753.3311'],\n",
       " ['164', '0', '0', '15', '156427.4891'],\n",
       " ['165', '0', '1', '16', '141535.4947'],\n",
       " ['166', '0', '1', '17', '218717.1011'],\n",
       " ['167', '0', '1', '18', '148686.6917'],\n",
       " ['168', '0', '0', '19', '186062.6648'],\n",
       " ['169', '0', '0', '20', '236789.8937'],\n",
       " ['170', '0', '1', '21', '229183.587'],\n",
       " ['171', '0', '1', '22', '163084.1843'],\n",
       " ['172', '0', '0', '23', '171362.0266'],\n",
       " ['173', '0', '1', '24', '191544.6944'],\n",
       " ['174', '1', '1', '25', '223693.721'],\n",
       " ['175', '0', '1', '26', '234809.4139'],\n",
       " ['176', '0', '0', '27', '250068.9901'],\n",
       " ['177', '0', '1', '28', '243979.0304'],\n",
       " ['178', '0', '1', '29', '224242.7664'],\n",
       " ['179', '0', '1', '30', '223587.302'],\n",
       " ['180', '1', '1', '1', '140406.7687'],\n",
       " ['181', '0', '0', '2', '90839.45487'],\n",
       " ['182', '0', '1', '3', '181321.7041'],\n",
       " ['183', '0', '1', '4', '146391.9322'],\n",
       " ['184', '0', '1', '5', '92886.36997'],\n",
       " ['185', '0', '1', '6', '145348.9643'],\n",
       " ['186', '0', '1', '7', '184552.7716'],\n",
       " ['187', '0', '1', '8', '200068.3959'],\n",
       " ['188', '0', '1', '9', '143167.7838'],\n",
       " ['189', '0', '1', '10', '195848.0741'],\n",
       " ['190', '0', '1', '11', '211804.2125'],\n",
       " ['191', '0', '0', '12', '148831.4591'],\n",
       " ['192', '0', '1', '13', '214144.3314'],\n",
       " ['193', '1', '0', '14', '238161.5288'],\n",
       " ['194', '0', '0', '15', '153422.3198'],\n",
       " ['195', '1', '1', '16', '213011.7778'],\n",
       " ['196', '0', '1', '17', '215620.3828'],\n",
       " ['197', '0', '0', '18', '188153.441'],\n",
       " ['198', '0', '1', '19', '239061.3544'],\n",
       " ['199', '0', '1', '20', '191639.7588']]"
      ]
     },
     "execution_count": 5,
     "metadata": {},
     "output_type": "execute_result"
    }
   ],
   "source": [
    "rows = []\n",
    "for row in csvreader:\n",
    "        rows.append(row)\n",
    "rows"
   ]
  },
  {
   "cell_type": "code",
   "execution_count": 6,
   "metadata": {},
   "outputs": [],
   "source": [
    "file.close()"
   ]
  },
  {
   "cell_type": "markdown",
   "metadata": {},
   "source": [
    "# using Pandas"
   ]
  },
  {
   "cell_type": "code",
   "execution_count": 15,
   "metadata": {},
   "outputs": [
    {
     "data": {
      "text/html": [
       "<div>\n",
       "<style scoped>\n",
       "    .dataframe tbody tr th:only-of-type {\n",
       "        vertical-align: middle;\n",
       "    }\n",
       "\n",
       "    .dataframe tbody tr th {\n",
       "        vertical-align: top;\n",
       "    }\n",
       "\n",
       "    .dataframe thead th {\n",
       "        text-align: right;\n",
       "    }\n",
       "</style>\n",
       "<table border=\"1\" class=\"dataframe\">\n",
       "  <thead>\n",
       "    <tr style=\"text-align: right;\">\n",
       "      <th></th>\n",
       "      <th>Unnamed: 0</th>\n",
       "      <th>PHD</th>\n",
       "      <th>MBA</th>\n",
       "      <th>experience</th>\n",
       "      <th>salary</th>\n",
       "    </tr>\n",
       "  </thead>\n",
       "  <tbody>\n",
       "    <tr>\n",
       "      <th>0</th>\n",
       "      <td>0</td>\n",
       "      <td>0</td>\n",
       "      <td>0</td>\n",
       "      <td>1</td>\n",
       "      <td>95680.89008</td>\n",
       "    </tr>\n",
       "    <tr>\n",
       "      <th>1</th>\n",
       "      <td>1</td>\n",
       "      <td>0</td>\n",
       "      <td>0</td>\n",
       "      <td>2</td>\n",
       "      <td>85360.44112</td>\n",
       "    </tr>\n",
       "    <tr>\n",
       "      <th>2</th>\n",
       "      <td>2</td>\n",
       "      <td>0</td>\n",
       "      <td>0</td>\n",
       "      <td>3</td>\n",
       "      <td>109604.77030</td>\n",
       "    </tr>\n",
       "    <tr>\n",
       "      <th>3</th>\n",
       "      <td>3</td>\n",
       "      <td>0</td>\n",
       "      <td>1</td>\n",
       "      <td>4</td>\n",
       "      <td>124632.26670</td>\n",
       "    </tr>\n",
       "    <tr>\n",
       "      <th>4</th>\n",
       "      <td>4</td>\n",
       "      <td>0</td>\n",
       "      <td>1</td>\n",
       "      <td>5</td>\n",
       "      <td>115637.99330</td>\n",
       "    </tr>\n",
       "    <tr>\n",
       "      <th>...</th>\n",
       "      <td>...</td>\n",
       "      <td>...</td>\n",
       "      <td>...</td>\n",
       "      <td>...</td>\n",
       "      <td>...</td>\n",
       "    </tr>\n",
       "    <tr>\n",
       "      <th>195</th>\n",
       "      <td>195</td>\n",
       "      <td>1</td>\n",
       "      <td>1</td>\n",
       "      <td>16</td>\n",
       "      <td>213011.77780</td>\n",
       "    </tr>\n",
       "    <tr>\n",
       "      <th>196</th>\n",
       "      <td>196</td>\n",
       "      <td>0</td>\n",
       "      <td>1</td>\n",
       "      <td>17</td>\n",
       "      <td>215620.38280</td>\n",
       "    </tr>\n",
       "    <tr>\n",
       "      <th>197</th>\n",
       "      <td>197</td>\n",
       "      <td>0</td>\n",
       "      <td>0</td>\n",
       "      <td>18</td>\n",
       "      <td>188153.44100</td>\n",
       "    </tr>\n",
       "    <tr>\n",
       "      <th>198</th>\n",
       "      <td>198</td>\n",
       "      <td>0</td>\n",
       "      <td>1</td>\n",
       "      <td>19</td>\n",
       "      <td>239061.35440</td>\n",
       "    </tr>\n",
       "    <tr>\n",
       "      <th>199</th>\n",
       "      <td>199</td>\n",
       "      <td>0</td>\n",
       "      <td>1</td>\n",
       "      <td>20</td>\n",
       "      <td>191639.75880</td>\n",
       "    </tr>\n",
       "  </tbody>\n",
       "</table>\n",
       "<p>200 rows × 5 columns</p>\n",
       "</div>"
      ],
      "text/plain": [
       "     Unnamed: 0  PHD  MBA  experience        salary\n",
       "0             0    0    0           1   95680.89008\n",
       "1             1    0    0           2   85360.44112\n",
       "2             2    0    0           3  109604.77030\n",
       "3             3    0    1           4  124632.26670\n",
       "4             4    0    1           5  115637.99330\n",
       "..          ...  ...  ...         ...           ...\n",
       "195         195    1    1          16  213011.77780\n",
       "196         196    0    1          17  215620.38280\n",
       "197         197    0    0          18  188153.44100\n",
       "198         198    0    1          19  239061.35440\n",
       "199         199    0    1          20  191639.75880\n",
       "\n",
       "[200 rows x 5 columns]"
      ]
     },
     "execution_count": 15,
     "metadata": {},
     "output_type": "execute_result"
    }
   ],
   "source": [
    "import pandas as pd\n",
    "df= pd.read_csv(\"Salary.csv\")\n",
    "df\n",
    "\n"
   ]
  },
  {
   "cell_type": "code",
   "execution_count": 16,
   "metadata": {},
   "outputs": [
    {
     "data": {
      "text/plain": [
       "Index(['Unnamed: 0', 'PHD', 'MBA', 'experience', 'salary'], dtype='object')"
      ]
     },
     "execution_count": 16,
     "metadata": {},
     "output_type": "execute_result"
    }
   ],
   "source": [
    "df.columns"
   ]
  },
  {
   "cell_type": "code",
   "execution_count": 17,
   "metadata": {},
   "outputs": [
    {
     "data": {
      "text/plain": [
       "0       95680.89008\n",
       "1       85360.44112\n",
       "2      109604.77030\n",
       "3      124632.26670\n",
       "4      115637.99330\n",
       "           ...     \n",
       "195    213011.77780\n",
       "196    215620.38280\n",
       "197    188153.44100\n",
       "198    239061.35440\n",
       "199    191639.75880\n",
       "Name: salary, Length: 200, dtype: float64"
      ]
     },
     "execution_count": 17,
     "metadata": {},
     "output_type": "execute_result"
    }
   ],
   "source": [
    "df.salary"
   ]
  },
  {
   "cell_type": "code",
   "execution_count": 23,
   "metadata": {},
   "outputs": [
    {
     "name": "stdout",
     "output_type": "stream",
     "text": [
      "Mean salary: 183518.1580934501\n",
      "Sum of salaries: 36703631.61869\n",
      "Max salary: 342048.8182\n",
      "Min salary: 62942.00704\n",
      "Count of salaries: 200\n",
      "Median salary: 184025.33715\n",
      "Std of salaries: 51987.35230965559\n",
      "Var of salaries: 2702684800.168252\n"
     ]
    }
   ],
   "source": [
    "# block 1 - simple stats\n",
    "mean1 = df['salary'].mean()\n",
    "sum1 = df['salary'].sum()\n",
    "max1 = df['salary'].max()\n",
    "min1 = df['salary'].min()\n",
    "count1 = df['salary'].count()\n",
    "median1 = df['salary'].median() \n",
    "std1 = df['salary'].std() \n",
    "var1 = df['salary'].var() \n",
    "\n",
    "# print block 1\n",
    "print ('Mean salary: ' + str(mean1))\n",
    "print ('Sum of salaries: ' + str(sum1))\n",
    "print ('Max salary: ' + str(max1))\n",
    "print ('Min salary: ' + str(min1))\n",
    "print ('Count of salaries: ' + str(count1))\n",
    "print ('Median salary: ' + str(median1))\n",
    "print ('Std of salaries: ' + str(std1))\n",
    "print ('Var of salaries: ' + str(var1))"
   ]
  },
  {
   "cell_type": "code",
   "execution_count": 25,
   "metadata": {},
   "outputs": [
    {
     "name": "stdout",
     "output_type": "stream",
     "text": [
      "     Unnamed: 0  PHD  experience  salary\n",
      "MBA                                     \n",
      "0            65   65          65      65\n",
      "1           135  135         135     135\n"
     ]
    }
   ],
   "source": [
    "# block 2 - group by\n",
    "#groupby_sum1 = df.groupby(['MBA']).sum() \n",
    "groupby_countMBA= df.groupby(['MBA']).count()\n",
    "#groupby_countPHD = df.groupby(['PHD']).count()\n",
    "\n",
    "print(groupby_countMBA)\n",
    "#print(groupby_countPHD)\n",
    "\n",
    "# print block 2\n",
    "#print ('Sum of values, grouped by the Country: ' + str(groupby_countMBA))\n",
    "#print ('Count of values, grouped by the Country: ' + str(groupby_count1))"
   ]
  },
  {
   "cell_type": "markdown",
   "metadata": {},
   "source": [
    "# predict Salary"
   ]
  },
  {
   "cell_type": "code",
   "execution_count": 27,
   "metadata": {},
   "outputs": [],
   "source": [
    "import pandas as pd\n",
    "import numpy as np\n",
    "from sklearn.model_selection import train_test_split\n",
    "from sklearn import linear_model \n",
    "import sklearn.metrics as sm\n",
    "import matplotlib.pyplot as plt\n",
    "\n",
    "data = pd.read_csv(\"salary.csv\")\n",
    "X = data['experience']\n",
    "y = data['salary']"
   ]
  },
  {
   "cell_type": "code",
   "execution_count": 35,
   "metadata": {},
   "outputs": [
    {
     "data": {
      "text/plain": [
       "Unnamed: 0    0\n",
       "PHD           0\n",
       "MBA           0\n",
       "experience    0\n",
       "salary        0\n",
       "dtype: int64"
      ]
     },
     "execution_count": 35,
     "metadata": {},
     "output_type": "execute_result"
    }
   ],
   "source": [
    "# check the total null values  in each column since the above shows there are missing value\n",
    "# based on this those 3 features should be dropped before removing the null values\n",
    "data.isnull().sum()"
   ]
  },
  {
   "cell_type": "code",
   "execution_count": 28,
   "metadata": {},
   "outputs": [],
   "source": [
    "#splitting data into training and test\n",
    "\n",
    "X_train, X_test, y_train, y_test = train_test_split(X,y, test_size=0.3, random_state=42)"
   ]
  },
  {
   "cell_type": "code",
   "execution_count": 29,
   "metadata": {},
   "outputs": [],
   "source": [
    "# data transform\n",
    "\n",
    "X_train = np.array(X_train).reshape((len(X_train),1))\n",
    "y_train = np.array(y_train).reshape((len(y_train),1))\n",
    "\n",
    "X_test = np.array(X_test).reshape(len(X_test), 1)\n",
    "y_test = np.array(y_test).reshape(len(y_test), 1)"
   ]
  },
  {
   "cell_type": "code",
   "execution_count": 30,
   "metadata": {},
   "outputs": [
    {
     "data": {
      "text/plain": [
       "LinearRegression()"
      ]
     },
     "execution_count": 30,
     "metadata": {},
     "output_type": "execute_result"
    }
   ],
   "source": [
    "# training model\n",
    "model = linear_model.LinearRegression()\n",
    "model.fit(X_train, y_train)"
   ]
  },
  {
   "cell_type": "code",
   "execution_count": 31,
   "metadata": {},
   "outputs": [
    {
     "data": {
      "image/png": "[encoded data removed]",
      "text/plain": [
       "<Figure size 432x288 with 1 Axes>"
      ]
     },
     "metadata": {
      "needs_background": "light"
     },
     "output_type": "display_data"
    }
   ],
   "source": [
    "# Predicting Salary using Linear Model\n",
    "\n",
    "y_train_pred = model.predict(X_train)\n",
    "\n",
    "plt.figure()\n",
    "plt.scatter(X_train, y_train, color='blue', label=\"True Value\")\n",
    "plt.plot(X_train, y_train_pred, color='black', linewidth=2, label=\"Prediction\")\n",
    "plt.xlabel(\"Years of Experiences\")\n",
    "plt.ylabel(\"Salary\")\n",
    "plt.title('Prediction Result of Training Data')\n",
    "plt.legend()\n",
    "plt.show()\n",
    "\n"
   ]
  },
  {
   "cell_type": "code",
   "execution_count": 32,
   "metadata": {},
   "outputs": [
    {
     "data": {
      "image/png": "[encoded data removed]",
      "text/plain": [
       "<Figure size 432x288 with 1 Axes>"
      ]
     },
     "metadata": {
      "needs_background": "light"
     },
     "output_type": "display_data"
    }
   ],
   "source": [
    "y_test_pred = model.predict(X_test)\n",
    "\n",
    "plt.figure()\n",
    "plt.scatter(X_test, y_test, color='green', label='True Value')\n",
    "plt.plot(X_test, y_test_pred, color='black', linewidth=2, label='Prediction')\n",
    "plt.xlabel(\"Years of Experiences\")\n",
    "plt.ylabel(\"Salary\")\n",
    "plt.title('Prediction Result of Test data')\n",
    "plt.legend()\n",
    "plt.show()"
   ]
  },
  {
   "cell_type": "code",
   "execution_count": 33,
   "metadata": {},
   "outputs": [
    {
     "name": "stdout",
     "output_type": "stream",
     "text": [
      "Mean squared error = 999240547.7\n",
      "Explain variance score = 0.54\n",
      "R2 score = 0.52\n"
     ]
    }
   ],
   "source": [
    "# Model Evaluation\n",
    "\n",
    "print(\"Mean squared error =\", round(sm.mean_squared_error(y_test, y_test_pred), 2))\n",
    "print(\"Explain variance score =\", round(sm.explained_variance_score(y_test, y_test_pred), 2))\n",
    "print(\"R2 score =\", round(sm.r2_score(y_test, y_test_pred), 2))"
   ]
  },
  {
   "cell_type": "code",
   "execution_count": null,
   "metadata": {},
   "outputs": [],
   "source": []
  }
 ],
 "metadata": {
  "kernelspec": {
   "display_name": "Python 3",
   "language": "python",
   "name": "python3"
  },
  "language_info": {
   "codemirror_mode": {
    "name": "ipython",
    "version": 3
   },
   "file_extension": ".py",
   "mimetype": "text/x-python",
   "name": "python",
   "nbconvert_exporter": "python",
   "pygments_lexer": "ipython3",
   "version": "3.8.5"
  }
 },
 "nbformat": 4,
 "nbformat_minor": 4
}
