{
 "cells": [
  {
   "cell_type": "code",
   "execution_count": 1,
   "metadata": {},
   "outputs": [],
   "source": [
    "import csv"
   ]
  },
  {
   "cell_type": "code",
   "execution_count": 2,
   "metadata": {},
   "outputs": [
    {
     "data": {
      "text/plain": [
       "_io.TextIOWrapper"
      ]
     },
     "execution_count": 2,
     "metadata": {},
     "output_type": "execute_result"
    }
   ],
   "source": [
    "file = open('Salary.csv')\n",
    "\n",
    "type(file)"
   ]
  },
  {
   "cell_type": "code",
   "execution_count": 3,
   "metadata": {},
   "outputs": [],
   "source": [
    "csvreader = csv.reader(file)"
   ]
  },
  {
   "cell_type": "code",
   "execution_count": 4,
   "metadata": {},
   "outputs": [
    {
     "data": {
      "text/plain": [
       "['', 'PHD', 'MBA', 'experience', 'salary']"
      ]
     },
     "execution_count": 4,
     "metadata": {},
     "output_type": "execute_result"
    }
   ],
   "source": [
    "header = []\n",
    "header = next(csvreader)\n",
    "header"
   ]
  },
  {
   "cell_type": "code",
   "execution_count": 5,
   "metadata": {},
   "outputs": [
    {
     "data": {
      "text/plain": [
       "[['0', '0', '0', '1', '95680.89008'],\n",
       " ['1', '0', '0', '2', '85360.44112'],\n",
       " ['2', '0', '0', '3', '109604.7703'],\n",
       " ['3', '0', '1', '4', '124632.2667'],\n",
       " ['4', '0', '1', '5', '115637.9933'],\n",
       " ['5', '0', '0', '6', '107554.6795'],\n",
       " ['6', '0', '0', '7', '173140.4631'],\n",
       " ['7', '0', '0', '8', '145713.6909'],\n",
       " ['8', '0', '1', '9', '179704.0879'],\n",
       " ['9', '0', '1', '10', '169442.2813'],\n",
       " ['10', '0', '0', '11', '132054.7539'],\n",
       " ['11', '0', '1', '12', '132791.7079'],\n",
       " ['12', '0', '1', '13', '209351.8798'],\n",
       " ['13', '0', '1', '14', '178863.1777'],\n",
       " ['14', '0', '0', '15', '122491.4413'],\n",
       " ['15', '0', '0', '16', '156568.079'],\n",
       " ['16', '0', '1', '17', '151133.7818'],\n",
       " ['17', '0', '1', '18', '238712.2289'],\n",
       " ['18', '0', '1', '19', '169882.3424'],\n",
       " ['19', '0', '1', '20', '145812.6666'],\n",
       " ['20', '0', '1', '21', '210378.922'],\n",
       " ['21', '0', '1', '22', '203959.7595'],\n",
       " ['22', '0', '1', '23', '246403.0577'],\n",
       " ['23', '0', '1', '24', '220123.1236'],\n",
       " ['24', '0', '1', '25', '227794.4223'],\n",
       " ['25', '0', '1', '26', '254555.453'],\n",
       " ['26', '0', '1', '27', '211238.8448'],\n",
       " ['27', '1', '1', '28', '235104.4062'],\n",
       " ['28', '0', '0', '29', '276782.9777'],\n",
       " ['29', '0', '1', '30', '241565.8342'],\n",
       " ['30', '0', '0', '1', '158970.262'],\n",
       " ['31', '0', '1', '2', '128509.281'],\n",
       " ['32', '0', '1', '3', '187512.7974'],\n",
       " ['33', '0', '1', '4', '145521.6432'],\n",
       " ['34', '0', '1', '5', '87952.9437'],\n",
       " ['35', '1', '1', '6', '153721.1165'],\n",
       " ['36', '0', '1', '7', '164373.6351'],\n",
       " ['37', '0', '0', '8', '120977.0223'],\n",
       " ['38', '0', '1', '9', '113208.7216'],\n",
       " ['39', '0', '0', '10', '110427.371'],\n",
       " ['40', '0', '0', '11', '200424.0989'],\n",
       " ['41', '0', '1', '12', '162224.3682'],\n",
       " ['42', '0', '1', '13', '202621.8953'],\n",
       " ['43', '0', '1', '14', '186325.9827'],\n",
       " ['44', '0', '0', '15', '182731.0014'],\n",
       " ['45', '0', '0', '16', '183497.9027'],\n",
       " ['46', '0', '1', '17', '211559.3764'],\n",
       " ['47', '0', '0', '18', '179533.5665'],\n",
       " ['48', '0', '1', '19', '204601.734'],\n",
       " ['49', '0', '0', '20', '180549.1653'],\n",
       " ['50', '0', '1', '21', '206867.6501'],\n",
       " ['51', '0', '1', '22', '214599.3687'],\n",
       " ['52', '0', '1', '23', '203523.3473'],\n",
       " ['53', '0', '1', '24', '256520.3703'],\n",
       " ['54', '1', '1', '25', '287372.5239'],\n",
       " ['55', '0', '1', '26', '200000.3572'],\n",
       " ['56', '0', '1', '27', '230931.3128'],\n",
       " ['57', '0', '1', '28', '253442.8848'],\n",
       " ['58', '0', '1', '29', '282174.8378'],\n",
       " ['59', '0', '1', '30', '255946.802'],\n",
       " ['60', '0', '0', '1', '138224.6081'],\n",
       " ['61', '0', '1', '2', '108491.919'],\n",
       " ['62', '0', '1', '3', '130019.4356'],\n",
       " ['63', '0', '0', '4', '102741.9089'],\n",
       " ['64', '0', '1', '5', '147810.9889'],\n",
       " ['65', '0', '0', '6', '119304.4509'],\n",
       " ['66', '1', '0', '7', '172771.6691'],\n",
       " ['67', '0', '1', '8', '217467.5723'],\n",
       " ['68', '1', '0', '9', '178637.0952'],\n",
       " ['69', '0', '0', '10', '155682.6398'],\n",
       " ['70', '0', '0', '11', '171158.3227'],\n",
       " ['71', '0', '0', '12', '251264.6036'],\n",
       " ['72', '0', '1', '13', '175488.1733'],\n",
       " ['73', '0', '0', '14', '189866.3563'],\n",
       " ['74', '0', '1', '15', '202392.4911'],\n",
       " ['75', '0', '1', '16', '205439.4592'],\n",
       " ['76', '0', '1', '17', '212000.4542'],\n",
       " ['77', '0', '0', '18', '163268.5424'],\n",
       " ['78', '1', '1', '19', '225968.4139'],\n",
       " ['79', '0', '1', '20', '172980.9966'],\n",
       " ['80', '0', '1', '21', '179475.9841'],\n",
       " ['81', '0', '1', '22', '173415.6908'],\n",
       " ['82', '0', '1', '23', '217013.1569'],\n",
       " ['83', '1', '1', '24', '252966.729'],\n",
       " ['84', '0', '1', '25', '180907.1853'],\n",
       " ['85', '0', '1', '26', '264284.9095'],\n",
       " ['86', '0', '1', '27', '209882.4954'],\n",
       " ['87', '0', '0', '28', '215597.3511'],\n",
       " ['88', '0', '1', '29', '257248.6888'],\n",
       " ['89', '0', '1', '30', '253121.5455'],\n",
       " ['90', '0', '0', '1', '140239.2217'],\n",
       " ['91', '0', '0', '2', '71157.29316'],\n",
       " ['92', '0', '1', '3', '99070.44077'],\n",
       " ['93', '0', '1', '4', '111212.8703'],\n",
       " ['94', '0', '0', '5', '151071.1198'],\n",
       " ['95', '0', '1', '6', '89925.82823'],\n",
       " ['96', '0', '1', '7', '150018.4009'],\n",
       " ['97', '0', '1', '8', '195027.5363'],\n",
       " ['98', '0', '0', '9', '170675.1912'],\n",
       " ['99', '1', '0', '10', '208737.0831'],\n",
       " ['100', '0', '1', '11', '190652.1975'],\n",
       " ['101', '0', '1', '12', '193963.1174'],\n",
       " ['102', '0', '1', '13', '193353.681'],\n",
       " ['103', '0', '1', '14', '243286.9437'],\n",
       " ['104', '0', '0', '15', '161681.4897'],\n",
       " ['105', '0', '0', '16', '197026.3397'],\n",
       " ['106', '0', '0', '17', '145554.6714'],\n",
       " ['107', '0', '1', '18', '200750.1793'],\n",
       " ['108', '0', '0', '19', '181734.5969'],\n",
       " ['109', '0', '1', '20', '179638.4403'],\n",
       " ['110', '0', '1', '21', '164723.4316'],\n",
       " ['111', '0', '1', '22', '205991.8442'],\n",
       " ['112', '0', '1', '23', '252481.5876'],\n",
       " ['113', '0', '1', '24', '238078.5177'],\n",
       " ['114', '0', '1', '25', '206526.7223'],\n",
       " ['115', '1', '1', '26', '310805.0934'],\n",
       " ['116', '0', '0', '27', '210154.5875'],\n",
       " ['117', '0', '1', '28', '217515.9923'],\n",
       " ['118', '0', '1', '29', '231524.2698'],\n",
       " ['119', '0', '1', '30', '242559.4812'],\n",
       " ['120', '0', '1', '1', '63532.81308'],\n",
       " ['121', '0', '1', '2', '92135.41265'],\n",
       " ['122', '0', '1', '3', '90861.54721'],\n",
       " ['123', '0', '0', '4', '129773.7749'],\n",
       " ['124', '0', '1', '5', '136982.8652'],\n",
       " ['125', '1', '1', '6', '89473.94831'],\n",
       " ['126', '0', '1', '7', '140156.25'],\n",
       " ['127', '0', '1', '8', '138938.62'],\n",
       " ['128', '1', '0', '9', '146051.2453'],\n",
       " ['129', '0', '0', '10', '157402.4228'],\n",
       " ['130', '0', '1', '11', '221882.4091'],\n",
       " ['131', '0', '1', '12', '144598.2429'],\n",
       " ['132', '0', '0', '13', '188063.1454'],\n",
       " ['133', '0', '1', '14', '154876.371'],\n",
       " ['134', '0', '1', '15', '202977.8078'],\n",
       " ['135', '0', '1', '16', '230264.3617'],\n",
       " ['136', '0', '1', '17', '161182.8293'],\n",
       " ['137', '0', '0', '18', '214024.3165'],\n",
       " ['138', '0', '1', '19', '247536.5472'],\n",
       " ['139', '0', '0', '20', '275149.793'],\n",
       " ['140', '0', '1', '21', '237818.7722'],\n",
       " ['141', '0', '0', '22', '150117.4547'],\n",
       " ['142', '0', '1', '23', '221142.9712'],\n",
       " ['143', '0', '0', '24', '238609.1546'],\n",
       " ['144', '0', '1', '25', '238761.8383'],\n",
       " ['145', '0', '1', '26', '267081.6946'],\n",
       " ['146', '0', '1', '27', '281345.8731'],\n",
       " ['147', '0', '1', '28', '247256.1295'],\n",
       " ['148', '0', '0', '29', '245189.0729'],\n",
       " ['149', '1', '1', '30', '342048.8182'],\n",
       " ['150', '0', '0', '1', '115676.9476'],\n",
       " ['151', '0', '0', '2', '62942.00704'],\n",
       " ['152', '0', '0', '3', '125607.2996'],\n",
       " ['153', '0', '1', '4', '133858.0132'],\n",
       " ['154', '0', '0', '5', '114598.8308'],\n",
       " ['155', '0', '0', '6', '127137.9444'],\n",
       " ['156', '0', '0', '7', '143512.0193'],\n",
       " ['157', '0', '1', '8', '120944.0227'],\n",
       " ['158', '0', '0', '9', '151936.321'],\n",
       " ['159', '0', '1', '10', '149982.3697'],\n",
       " ['160', '0', '1', '11', '286019.4646'],\n",
       " ['161', '0', '1', '12', '210013.3024'],\n",
       " ['162', '1', '1', '13', '187259.6334'],\n",
       " ['163', '0', '1', '14', '171753.3311'],\n",
       " ['164', '0', '0', '15', '156427.4891'],\n",
       " ['165', '0', '1', '16', '141535.4947'],\n",
       " ['166', '0', '1', '17', '218717.1011'],\n",
       " ['167', '0', '1', '18', '148686.6917'],\n",
       " ['168', '0', '0', '19', '186062.6648'],\n",
       " ['169', '0', '0', '20', '236789.8937'],\n",
       " ['170', '0', '1', '21', '229183.587'],\n",
       " ['171', '0', '1', '22', '163084.1843'],\n",
       " ['172', '0', '0', '23', '171362.0266'],\n",
       " ['173', '0', '1', '24', '191544.6944'],\n",
       " ['174', '1', '1', '25', '223693.721'],\n",
       " ['175', '0', '1', '26', '234809.4139'],\n",
       " ['176', '0', '0', '27', '250068.9901'],\n",
       " ['177', '0', '1', '28', '243979.0304'],\n",
       " ['178', '0', '1', '29', '224242.7664'],\n",
       " ['179', '0', '1', '30', '223587.302'],\n",
       " ['180', '1', '1', '1', '140406.7687'],\n",
       " ['181', '0', '0', '2', '90839.45487'],\n",
       " ['182', '0', '1', '3', '181321.7041'],\n",
       " ['183', '0', '1', '4', '146391.9322'],\n",
       " ['184', '0', '1', '5', '92886.36997'],\n",
       " ['185', '0', '1', '6', '145348.9643'],\n",
       " ['186', '0', '1', '7', '184552.7716'],\n",
       " ['187', '0', '1', '8', '200068.3959'],\n",
       " ['188', '0', '1', '9', '143167.7838'],\n",
       " ['189', '0', '1', '10', '195848.0741'],\n",
       " ['190', '0', '1', '11', '211804.2125'],\n",
       " ['191', '0', '0', '12', '148831.4591'],\n",
       " ['192', '0', '1', '13', '214144.3314'],\n",
       " ['193', '1', '0', '14', '238161.5288'],\n",
       " ['194', '0', '0', '15', '153422.3198'],\n",
       " ['195', '1', '1', '16', '213011.7778'],\n",
       " ['196', '0', '1', '17', '215620.3828'],\n",
       " ['197', '0', '0', '18', '188153.441'],\n",
       " ['198', '0', '1', '19', '239061.3544'],\n",
       " ['199', '0', '1', '20', '191639.7588']]"
      ]
     },
     "execution_count": 5,
     "metadata": {},
     "output_type": "execute_result"
    }
   ],
   "source": [
    "rows = []\n",
    "for row in csvreader:\n",
    "        rows.append(row)\n",
    "rows"
   ]
  },
  {
   "cell_type": "code",
   "execution_count": 6,
   "metadata": {},
   "outputs": [],
   "source": [
    "file.close()"
   ]
  },
  {
   "cell_type": "markdown",
   "metadata": {},
   "source": [
    "# using Pandas"
   ]
  },
  {
   "cell_type": "code",
   "execution_count": 15,
   "metadata": {},
   "outputs": [
    {
     "data": {
      "text/html": [
       "<div>\n",
       "<style scoped>\n",
       "    .dataframe tbody tr th:only-of-type {\n",
       "        vertical-align: middle;\n",
       "    }\n",
       "\n",
       "    .dataframe tbody tr th {\n",
       "        vertical-align: top;\n",
       "    }\n",
       "\n",
       "    .dataframe thead th {\n",
       "        text-align: right;\n",
       "    }\n",
       "</style>\n",
       "<table border=\"1\" class=\"dataframe\">\n",
       "  <thead>\n",
       "    <tr style=\"text-align: right;\">\n",
       "      <th></th>\n",
       "      <th>Unnamed: 0</th>\n",
       "      <th>PHD</th>\n",
       "      <th>MBA</th>\n",
       "      <th>experience</th>\n",
       "      <th>salary</th>\n",
       "    </tr>\n",
       "  </thead>\n",
       "  <tbody>\n",
       "    <tr>\n",
       "      <th>0</th>\n",
       "      <td>0</td>\n",
       "      <td>0</td>\n",
       "      <td>0</td>\n",
       "      <td>1</td>\n",
       "      <td>95680.89008</td>\n",
       "    </tr>\n",
       "    <tr>\n",
       "      <th>1</th>\n",
       "      <td>1</td>\n",
       "      <td>0</td>\n",
       "      <td>0</td>\n",
       "      <td>2</td>\n",
       "      <td>85360.44112</td>\n",
       "    </tr>\n",
       "    <tr>\n",
       "      <th>2</th>\n",
       "      <td>2</td>\n",
       "      <td>0</td>\n",
       "      <td>0</td>\n",
       "      <td>3</td>\n",
       "      <td>109604.77030</td>\n",
       "    </tr>\n",
       "    <tr>\n",
       "      <th>3</th>\n",
       "      <td>3</td>\n",
       "      <td>0</td>\n",
       "      <td>1</td>\n",
       "      <td>4</td>\n",
       "      <td>124632.26670</td>\n",
       "    </tr>\n",
       "    <tr>\n",
       "      <th>4</th>\n",
       "      <td>4</td>\n",
       "      <td>0</td>\n",
       "      <td>1</td>\n",
       "      <td>5</td>\n",
       "      <td>115637.99330</td>\n",
       "    </tr>\n",
       "    <tr>\n",
       "      <th>...</th>\n",
       "      <td>...</td>\n",
       "      <td>...</td>\n",
       "      <td>...</td>\n",
       "      <td>...</td>\n",
       "      <td>...</td>\n",
       "    </tr>\n",
       "    <tr>\n",
       "      <th>195</th>\n",
       "      <td>195</td>\n",
       "      <td>1</td>\n",
       "      <td>1</td>\n",
       "      <td>16</td>\n",
       "      <td>213011.77780</td>\n",
       "    </tr>\n",
       "    <tr>\n",
       "      <th>196</th>\n",
       "      <td>196</td>\n",
       "      <td>0</td>\n",
       "      <td>1</td>\n",
       "      <td>17</td>\n",
       "      <td>215620.38280</td>\n",
       "    </tr>\n",
       "    <tr>\n",
       "      <th>197</th>\n",
       "      <td>197</td>\n",
       "      <td>0</td>\n",
       "      <td>0</td>\n",
       "      <td>18</td>\n",
       "      <td>188153.44100</td>\n",
       "    </tr>\n",
       "    <tr>\n",
       "      <th>198</th>\n",
       "      <td>198</td>\n",
       "      <td>0</td>\n",
       "      <td>1</td>\n",
       "      <td>19</td>\n",
       "      <td>239061.35440</td>\n",
       "    </tr>\n",
       "    <tr>\n",
       "      <th>199</th>\n",
       "      <td>199</td>\n",
       "      <td>0</td>\n",
       "      <td>1</td>\n",
       "      <td>20</td>\n",
       "      <td>191639.75880</td>\n",
       "    </tr>\n",
       "  </tbody>\n",
       "</table>\n",
       "<p>200 rows × 5 columns</p>\n",
       "</div>"
      ],
      "text/plain": [
       "     Unnamed: 0  PHD  MBA  experience        salary\n",
       "0             0    0    0           1   95680.89008\n",
       "1             1    0    0           2   85360.44112\n",
       "2             2    0    0           3  109604.77030\n",
       "3             3    0    1           4  124632.26670\n",
       "4             4    0    1           5  115637.99330\n",
       "..          ...  ...  ...         ...           ...\n",
       "195         195    1    1          16  213011.77780\n",
       "196         196    0    1          17  215620.38280\n",
       "197         197    0    0          18  188153.44100\n",
       "198         198    0    1          19  239061.35440\n",
       "199         199    0    1          20  191639.75880\n",
       "\n",
       "[200 rows x 5 columns]"
      ]
     },
     "execution_count": 15,
     "metadata": {},
     "output_type": "execute_result"
    }
   ],
   "source": [
    "import pandas as pd\n",
    "df= pd.read_csv(\"Salary.csv\")\n",
    "df\n",
    "\n"
   ]
  },
  {
   "cell_type": "code",
   "execution_count": 16,
   "metadata": {},
   "outputs": [
    {
     "data": {
      "text/plain": [
       "Index(['Unnamed: 0', 'PHD', 'MBA', 'experience', 'salary'], dtype='object')"
      ]
     },
     "execution_count": 16,
     "metadata": {},
     "output_type": "execute_result"
    }
   ],
   "source": [
    "df.columns"
   ]
  },
  {
   "cell_type": "code",
   "execution_count": 17,
   "metadata": {},
   "outputs": [
    {
     "data": {
      "text/plain": [
       "0       95680.89008\n",
       "1       85360.44112\n",
       "2      109604.77030\n",
       "3      124632.26670\n",
       "4      115637.99330\n",
       "           ...     \n",
       "195    213011.77780\n",
       "196    215620.38280\n",
       "197    188153.44100\n",
       "198    239061.35440\n",
       "199    191639.75880\n",
       "Name: salary, Length: 200, dtype: float64"
      ]
     },
     "execution_count": 17,
     "metadata": {},
     "output_type": "execute_result"
    }
   ],
   "source": [
    "df.salary"
   ]
  },
  {
   "cell_type": "code",
   "execution_count": 23,
   "metadata": {},
   "outputs": [
    {
     "name": "stdout",
     "output_type": "stream",
     "text": [
      "Mean salary: 183518.1580934501\n",
      "Sum of salaries: 36703631.61869\n",
      "Max salary: 342048.8182\n",
      "Min salary: 62942.00704\n",
      "Count of salaries: 200\n",
      "Median salary: 184025.33715\n",
      "Std of salaries: 51987.35230965559\n",
      "Var of salaries: 2702684800.168252\n"
     ]
    }
   ],
   "source": [
    "# block 1 - simple stats\n",
    "mean1 = df['salary'].mean()\n",
    "sum1 = df['salary'].sum()\n",
    "max1 = df['salary'].max()\n",
    "min1 = df['salary'].min()\n",
    "count1 = df['salary'].count()\n",
    "median1 = df['salary'].median() \n",
    "std1 = df['salary'].std() \n",
    "var1 = df['salary'].var() \n",
    "\n",
    "# print block 1\n",
    "print ('Mean salary: ' + str(mean1))\n",
    "print ('Sum of salaries: ' + str(sum1))\n",
    "print ('Max salary: ' + str(max1))\n",
    "print ('Min salary: ' + str(min1))\n",
    "print ('Count of salaries: ' + str(count1))\n",
    "print ('Median salary: ' + str(median1))\n",
    "print ('Std of salaries: ' + str(std1))\n",
    "print ('Var of salaries: ' + str(var1))"
   ]
  },
  {
   "cell_type": "code",
   "execution_count": 25,
   "metadata": {},
   "outputs": [
    {
     "name": "stdout",
     "output_type": "stream",
     "text": [
      "     Unnamed: 0  PHD  experience  salary\n",
      "MBA                                     \n",
      "0            65   65          65      65\n",
      "1           135  135         135     135\n"
     ]
    }
   ],
   "source": [
    "# block 2 - group by\n",
    "#groupby_sum1 = df.groupby(['MBA']).sum() \n",
    "groupby_countMBA= df.groupby(['MBA']).count()\n",
    "#groupby_countPHD = df.groupby(['PHD']).count()\n",
    "\n",
    "print(groupby_countMBA)\n",
    "#print(groupby_countPHD)\n",
    "\n",
    "# print block 2\n",
    "#print ('Sum of values, grouped by the Country: ' + str(groupby_countMBA))\n",
    "#print ('Count of values, grouped by the Country: ' + str(groupby_count1))"
   ]
  },
  {
   "cell_type": "markdown",
   "metadata": {},
   "source": [
    "# predict Salary"
   ]
  },
  {
   "cell_type": "code",
   "execution_count": 27,
   "metadata": {},
   "outputs": [],
   "source": [
    "import pandas as pd\n",
    "import numpy as np\n",
    "from sklearn.model_selection import train_test_split\n",
    "from sklearn import linear_model \n",
    "import sklearn.metrics as sm\n",
    "import matplotlib.pyplot as plt\n",
    "\n",
    "data = pd.read_csv(\"salary.csv\")\n",
    "X = data['experience']\n",
    "y = data['salary']"
   ]
  },
  {
   "cell_type": "code",
   "execution_count": 35,
   "metadata": {},
   "outputs": [
    {
     "data": {
      "text/plain": [
       "Unnamed: 0    0\n",
       "PHD           0\n",
       "MBA           0\n",
       "experience    0\n",
       "salary        0\n",
       "dtype: int64"
      ]
     },
     "execution_count": 35,
     "metadata": {},
     "output_type": "execute_result"
    }
   ],
   "source": [
    "# check the total null values  in each column since the above shows there are missing value\n",
    "# based on this those 3 features should be dropped before removing the null values\n",
    "data.isnull().sum()"
   ]
  },
  {
   "cell_type": "code",
   "execution_count": 28,
   "metadata": {},
   "outputs": [],
   "source": [
    "#splitting data into training and test\n",
    "\n",
    "X_train, X_test, y_train, y_test = train_test_split(X,y, test_size=0.3, random_state=42)"
   ]
  },
  {
   "cell_type": "code",
   "execution_count": 29,
   "metadata": {},
   "outputs": [],
   "source": [
    "# data transform\n",
    "\n",
    "X_train = np.array(X_train).reshape((len(X_train),1))\n",
    "y_train = np.array(y_train).reshape((len(y_train),1))\n",
    "\n",
    "X_test = np.array(X_test).reshape(len(X_test), 1)\n",
    "y_test = np.array(y_test).reshape(len(y_test), 1)"
   ]
  },
  {
   "cell_type": "code",
   "execution_count": 30,
   "metadata": {},
   "outputs": [
    {
     "data": {
      "text/plain": [
       "LinearRegression()"
      ]
     },
     "execution_count": 30,
     "metadata": {},
     "output_type": "execute_result"
    }
   ],
   "source": [
    "# training model\n",
    "model = linear_model.LinearRegression()\n",
    "model.fit(X_train, y_train)"
   ]
  },
  {
   "cell_type": "code",
   "execution_count": 31,
   "metadata": {},
   "outputs": [
    {
     "data": {
      "image/png": "[encoded data removed]",
      "text/plain": [
       "<Figure size 432x288 with 1 Axes>"
      ]
     },
     "metadata": {
      "needs_background": "light"
     },
     "output_type": "display_data"
    }
   ],
   "source": [
    "# Predicting Salary using Linear Model\n",
    "\n",
    "y_train_pred = model.predict(X_train)\n",
    "\n",
    "plt.figure()\n",
    "plt.scatter(X_train, y_train, color='blue', label=\"True Value\")\n",
    "plt.plot(X_train, y_train_pred, color='black', linewidth=2, label=\"Prediction\")\n",
    "plt.xlabel(\"Years of Experiences\")\n",
    "plt.ylabel(\"Salary\")\n",
    "plt.title('Prediction Result of Training Data')\n",
    "plt.legend()\n",
    "plt.show()\n",
    "\n"
   ]
  },
  {
   "cell_type": "code",
   "execution_count": 32,
   "metadata": {},
   "outputs": [
    {
     "data": {
      "image/png": "[encoded data removed]",
      "text/plain": [
       "<Figure size 432x288 with 1 Axes>"
      ]
     },
     "metadata": {
      "needs_background": "light"
     },
     "output_type": "display_data"
    }
   ],
   "source": [
    "y_test_pred = model.predict(X_test)\n",
    "\n",
    "plt.figure()\n",
    "plt.scatter(X_test, y_test, color='green', label='True Value')\n",
    "plt.plot(X_test, y_test_pred, color='black', linewidth=2, label='Prediction')\n",
    "plt.xlabel(\"Years of Experiences\")\n",
    "plt.ylabel(\"Salary\")\n",
    "plt.title('Prediction Result of Test data')\n",
    "plt.legend()\n",
    "plt.show()"
   ]
  },
  {
   "cell_type": "code",
   "execution_count": 33,
   "metadata": {},
   "outputs": [
    {
     "name": "stdout",
     "output_type": "stream",
     "text": [
      "Mean squared error = 999240547.7\n",
      "Explain variance score = 0.54\n",
      "R2 score = 0.52\n"
     ]
    }
   ],
   "source": [
    "# Model Evaluation\n",
    "\n",
    "print(\"Mean squared error =\", round(sm.mean_squared_error(y_test, y_test_pred), 2))\n",
    "print(\"Explain variance score =\", round(sm.explained_variance_score(y_test, y_test_pred), 2))\n",
    "print(\"R2 score =\", round(sm.r2_score(y_test, y_test_pred), 2))"
   ]
  },
  {
   "cell_type": "markdown",
   "metadata": {},
   "source": [
    "# Salary Prediction-Approach 2"
   ]
  },
  {
   "cell_type": "code",
   "execution_count": 47,
   "metadata": {},
   "outputs": [
    {
     "data": {
      "image/png": "[encoded data removed]",
      "text/plain": [
       "<Figure size 432x288 with 1 Axes>"
      ]
     },
     "metadata": {
      "needs_background": "light"
     },
     "output_type": "display_data"
    }
   ],
   "source": [
    "import pandas as pd\n",
    "import numpy as np\n",
    "from sklearn.model_selection import train_test_split\n",
    "from sklearn import linear_model \n",
    "import sklearn.metrics as sm\n",
    "import matplotlib.pyplot as plt\n",
    "\n",
    "data = pd.read_csv(\"salary.csv\")\n",
    "x = data['experience']\n",
    "y = data['salary']\n",
    "\n",
    "# Displaying Data\n",
    "fig = plt.figure()\n",
    "plt.scatter(x, y, s=3)\n",
    "plt.title(\"Salary Based on experience\")\n",
    "plt.xlabel(\"x\")\n",
    "plt.ylabel(\"y\")\n",
    "plt.show()"
   ]
  },
  {
   "cell_type": "code",
   "execution_count": 50,
   "metadata": {},
   "outputs": [
    {
     "name": "stdout",
     "output_type": "stream",
     "text": [
      "(200, 5)\n"
     ]
    }
   ],
   "source": [
    "# shape\n",
    "print(data.shape)"
   ]
  },
  {
   "cell_type": "code",
   "execution_count": 52,
   "metadata": {},
   "outputs": [
    {
     "name": "stdout",
     "output_type": "stream",
     "text": [
      "    Unnamed: 0  PHD  MBA  experience        salary\n",
      "0            0    0    0           1   95680.89008\n",
      "1            1    0    0           2   85360.44112\n",
      "2            2    0    0           3  109604.77030\n",
      "3            3    0    1           4  124632.26670\n",
      "4            4    0    1           5  115637.99330\n",
      "5            5    0    0           6  107554.67950\n",
      "6            6    0    0           7  173140.46310\n",
      "7            7    0    0           8  145713.69090\n",
      "8            8    0    1           9  179704.08790\n",
      "9            9    0    1          10  169442.28130\n",
      "10          10    0    0          11  132054.75390\n",
      "11          11    0    1          12  132791.70790\n",
      "12          12    0    1          13  209351.87980\n",
      "13          13    0    1          14  178863.17770\n",
      "14          14    0    0          15  122491.44130\n",
      "15          15    0    0          16  156568.07900\n",
      "16          16    0    1          17  151133.78180\n",
      "17          17    0    1          18  238712.22890\n",
      "18          18    0    1          19  169882.34240\n",
      "19          19    0    1          20  145812.66660\n"
     ]
    }
   ],
   "source": [
    "# head\n",
    "print(data.head(20))"
   ]
  },
  {
   "cell_type": "code",
   "execution_count": 53,
   "metadata": {},
   "outputs": [
    {
     "name": "stdout",
     "output_type": "stream",
     "text": [
      "       Unnamed: 0         PHD        MBA  experience         salary\n",
      "count  200.000000  200.000000  200.00000  200.000000     200.000000\n",
      "mean    99.500000    0.085000    0.67500   15.000000  183518.158093\n",
      "std     57.879185    0.279582    0.46955    8.565444   51987.352310\n",
      "min      0.000000    0.000000    0.00000    1.000000   62942.007040\n",
      "25%     49.750000    0.000000    0.00000    8.000000  145787.922675\n",
      "50%     99.500000    0.000000    1.00000   15.000000  184025.337150\n",
      "75%    149.250000    0.000000    1.00000   22.000000  219068.606725\n",
      "max    199.000000    1.000000    1.00000   30.000000  342048.818200\n"
     ]
    }
   ],
   "source": [
    "# descriptions\n",
    "print(data.describe())"
   ]
  },
  {
   "cell_type": "code",
   "execution_count": 55,
   "metadata": {},
   "outputs": [
    {
     "name": "stdout",
     "output_type": "stream",
     "text": [
      "MBA\n",
      "0     65\n",
      "1    135\n",
      "dtype: int64\n"
     ]
    }
   ],
   "source": [
    "# class distribution\n",
    "print(data.groupby('MBA').size())  "
   ]
  },
  {
   "cell_type": "code",
   "execution_count": 63,
   "metadata": {},
   "outputs": [
    {
     "data": {
      "text/plain": [
       "Unnamed: 0       AxesSubplot(0.125,0.657941;0.227941x0.222059)\n",
       "PHD           AxesSubplot(0.398529,0.657941;0.227941x0.222059)\n",
       "MBA           AxesSubplot(0.672059,0.657941;0.227941x0.222059)\n",
       "experience       AxesSubplot(0.125,0.391471;0.227941x0.222059)\n",
       "salary        AxesSubplot(0.398529,0.391471;0.227941x0.222059)\n",
       "dtype: object"
      ]
     },
     "execution_count": 63,
     "metadata": {},
     "output_type": "execute_result"
    },
    {
     "data": {
      "image/png": "[encoded data removed]",
      "text/plain": [
       "<Figure size 432x288 with 9 Axes>"
      ]
     },
     "metadata": {
      "needs_background": "light"
     },
     "output_type": "display_data"
    }
   ],
   "source": [
    "# box and whisker plots\n",
    "data.plot(kind='box',subplots=True, layout=(3,3), sharex=False, sharey=False)\n",
    "#pyplot.show()"
   ]
  },
  {
   "cell_type": "code",
   "execution_count": 64,
   "metadata": {},
   "outputs": [
    {
     "data": {
      "text/plain": [
       "array([[<AxesSubplot:title={'center':'Unnamed: 0'}>,\n",
       "        <AxesSubplot:title={'center':'PHD'}>],\n",
       "       [<AxesSubplot:title={'center':'MBA'}>,\n",
       "        <AxesSubplot:title={'center':'experience'}>],\n",
       "       [<AxesSubplot:title={'center':'salary'}>, <AxesSubplot:>]],\n",
       "      dtype=object)"
      ]
     },
     "execution_count": 64,
     "metadata": {},
     "output_type": "execute_result"
    },
    {
     "data": {
      "image/png": "[encoded data removed]",
      "text/plain": [
       "<Figure size 432x288 with 6 Axes>"
      ]
     },
     "metadata": {
      "needs_background": "light"
     },
     "output_type": "display_data"
    }
   ],
   "source": [
    "# histograms\n",
    "data.hist()\n",
    "#pyplot.show()"
   ]
  },
  {
   "cell_type": "code",
   "execution_count": 66,
   "metadata": {},
   "outputs": [
    {
     "data": {
      "image/png": "[encoded data removed]",
      "text/plain": [
       "<Figure size 432x288 with 25 Axes>"
      ]
     },
     "metadata": {
      "needs_background": "light"
     },
     "output_type": "display_data"
    }
   ],
   "source": [
    "from pandas.plotting import scatter_matrix\n",
    "from matplotlib import pyplot\n",
    "\n",
    "# scatter plot matrix\n",
    "scatter_matrix(data)\n",
    "pyplot.show()"
   ]
  },
  {
   "cell_type": "code",
   "execution_count": 119,
   "metadata": {},
   "outputs": [
    {
     "data": {
      "text/plain": [
       "<bound method NDFrame.head of      Unnamed: 0  PHD  MBA  experience        salary\n",
       "0             0    0    0           1   95680.89008\n",
       "1             1    0    0           2   85360.44112\n",
       "2             2    0    0           3  109604.77030\n",
       "3             3    0    1           4  124632.26670\n",
       "4             4    0    1           5  115637.99330\n",
       "..          ...  ...  ...         ...           ...\n",
       "195         195    1    1          16  213011.77780\n",
       "196         196    0    1          17  215620.38280\n",
       "197         197    0    0          18  188153.44100\n",
       "198         198    0    1          19  239061.35440\n",
       "199         199    0    1          20  191639.75880\n",
       "\n",
       "[200 rows x 5 columns]>"
      ]
     },
     "execution_count": 119,
     "metadata": {},
     "output_type": "execute_result"
    }
   ],
   "source": [
    "data.head"
   ]
  },
  {
   "cell_type": "code",
   "execution_count": 132,
   "metadata": {},
   "outputs": [
    {
     "data": {
      "image/png": "[encoded data removed]",
      "text/plain": [
       "<Figure size 432x288 with 1 Axes>"
      ]
     },
     "metadata": {
      "needs_background": "light"
     },
     "output_type": "display_data"
    },
    {
     "data": {
      "image/png": "[encoded data removed]",
      "text/plain": [
       "<Figure size 432x288 with 1 Axes>"
      ]
     },
     "metadata": {
      "needs_background": "light"
     },
     "output_type": "display_data"
    },
    {
     "name": "stdout",
     "output_type": "stream",
     "text": [
      "Mean squared error = 999240547.7\n",
      "Explain variance score = 0.54\n",
      "R2 score = 0.52\n"
     ]
    }
   ],
   "source": [
    "array = data.values\n",
    "X = array[:,3]\n",
    "y = array[:,4]\n",
    "\n",
    "#splitting data into training and test\n",
    "\n",
    "X_train, X_test, y_train, y_test = train_test_split(X,y, test_size=0.3, random_state=42)\n",
    "\n",
    "X_train = np.array(X_train).reshape((len(X_train),1))\n",
    "y_train = np.array(y_train).reshape((len(y_train),1))\n",
    "\n",
    "X_test = np.array(X_test).reshape(len(X_test), 1)\n",
    "y_test = np.array(y_test).reshape(len(y_test), 1)\n",
    "\n",
    "model = linear_model.LinearRegression()\n",
    "model.fit(X_train, y_train)\n",
    "\n",
    "y_train_pred = model.predict(X_train)\n",
    "\n",
    "plt.figure()\n",
    "plt.scatter(X_train, y_train, color='blue', label=\"True Value\")\n",
    "plt.plot(X_train, y_train_pred, color='black', linewidth=2, label=\"Prediction\")\n",
    "plt.xlabel(\"Years of Experiences\")\n",
    "plt.ylabel(\"Salary\")\n",
    "plt.title('Prediction Result of Training Data')\n",
    "plt.legend()\n",
    "plt.show()\n",
    "\n",
    "y_test_pred = model.predict(X_test)\n",
    "\n",
    "plt.figure()\n",
    "plt.scatter(X_test, y_test, color='green', label='True Value')\n",
    "plt.plot(X_test, y_test_pred, color='black', linewidth=2, label='Prediction')\n",
    "plt.xlabel(\"Years of Experiences\")\n",
    "plt.ylabel(\"Salary\")\n",
    "plt.title('Prediction Result of Test data')\n",
    "plt.legend()\n",
    "plt.show()\n",
    "\n",
    "print(\"Mean squared error =\", round(sm.mean_squared_error(y_test, y_test_pred), 2))\n",
    "print(\"Explain variance score =\", round(sm.explained_variance_score(y_test, y_test_pred), 2))\n",
    "print(\"R2 score =\", round(sm.r2_score(y_test, y_test_pred), 2))"
   ]
  },
  {
   "cell_type": "code",
   "execution_count": 148,
   "metadata": {},
   "outputs": [
    {
     "data": {
      "text/html": [
       "<div>\n",
       "<style scoped>\n",
       "    .dataframe tbody tr th:only-of-type {\n",
       "        vertical-align: middle;\n",
       "    }\n",
       "\n",
       "    .dataframe tbody tr th {\n",
       "        vertical-align: top;\n",
       "    }\n",
       "\n",
       "    .dataframe thead th {\n",
       "        text-align: right;\n",
       "    }\n",
       "</style>\n",
       "<table border=\"1\" class=\"dataframe\">\n",
       "  <thead>\n",
       "    <tr style=\"text-align: right;\">\n",
       "      <th></th>\n",
       "      <th>Unnamed: 0</th>\n",
       "      <th>PHD</th>\n",
       "      <th>MBA</th>\n",
       "      <th>experience</th>\n",
       "      <th>salary</th>\n",
       "    </tr>\n",
       "  </thead>\n",
       "  <tbody>\n",
       "    <tr>\n",
       "      <th>count</th>\n",
       "      <td>135.000000</td>\n",
       "      <td>135.000000</td>\n",
       "      <td>135.0</td>\n",
       "      <td>135.000000</td>\n",
       "      <td>135.000000</td>\n",
       "    </tr>\n",
       "    <tr>\n",
       "      <th>mean</th>\n",
       "      <td>100.740741</td>\n",
       "      <td>0.088889</td>\n",
       "      <td>1.0</td>\n",
       "      <td>16.407407</td>\n",
       "      <td>193178.584309</td>\n",
       "    </tr>\n",
       "    <tr>\n",
       "      <th>std</th>\n",
       "      <td>57.665914</td>\n",
       "      <td>0.285643</td>\n",
       "      <td>0.0</td>\n",
       "      <td>8.597376</td>\n",
       "      <td>51325.100633</td>\n",
       "    </tr>\n",
       "    <tr>\n",
       "      <th>min</th>\n",
       "      <td>3.000000</td>\n",
       "      <td>0.000000</td>\n",
       "      <td>1.0</td>\n",
       "      <td>1.000000</td>\n",
       "      <td>63532.813080</td>\n",
       "    </tr>\n",
       "    <tr>\n",
       "      <th>25%</th>\n",
       "      <td>51.500000</td>\n",
       "      <td>0.000000</td>\n",
       "      <td>1.0</td>\n",
       "      <td>9.000000</td>\n",
       "      <td>152427.449150</td>\n",
       "    </tr>\n",
       "    <tr>\n",
       "      <th>50%</th>\n",
       "      <td>101.000000</td>\n",
       "      <td>0.000000</td>\n",
       "      <td>1.0</td>\n",
       "      <td>17.000000</td>\n",
       "      <td>202392.491100</td>\n",
       "    </tr>\n",
       "    <tr>\n",
       "      <th>75%</th>\n",
       "      <td>148.000000</td>\n",
       "      <td>0.000000</td>\n",
       "      <td>1.0</td>\n",
       "      <td>24.000000</td>\n",
       "      <td>228489.004650</td>\n",
       "    </tr>\n",
       "    <tr>\n",
       "      <th>max</th>\n",
       "      <td>199.000000</td>\n",
       "      <td>1.000000</td>\n",
       "      <td>1.0</td>\n",
       "      <td>30.000000</td>\n",
       "      <td>342048.818200</td>\n",
       "    </tr>\n",
       "  </tbody>\n",
       "</table>\n",
       "</div>"
      ],
      "text/plain": [
       "       Unnamed: 0         PHD    MBA  experience         salary\n",
       "count  135.000000  135.000000  135.0  135.000000     135.000000\n",
       "mean   100.740741    0.088889    1.0   16.407407  193178.584309\n",
       "std     57.665914    0.285643    0.0    8.597376   51325.100633\n",
       "min      3.000000    0.000000    1.0    1.000000   63532.813080\n",
       "25%     51.500000    0.000000    1.0    9.000000  152427.449150\n",
       "50%    101.000000    0.000000    1.0   17.000000  202392.491100\n",
       "75%    148.000000    0.000000    1.0   24.000000  228489.004650\n",
       "max    199.000000    1.000000    1.0   30.000000  342048.818200"
      ]
     },
     "execution_count": 148,
     "metadata": {},
     "output_type": "execute_result"
    }
   ],
   "source": [
    "data2=data.loc[data['MBA'] == 1]\n",
    "data2.describe()"
   ]
  },
  {
   "cell_type": "code",
   "execution_count": 149,
   "metadata": {},
   "outputs": [
    {
     "data": {
      "text/html": [
       "<div>\n",
       "<style scoped>\n",
       "    .dataframe tbody tr th:only-of-type {\n",
       "        vertical-align: middle;\n",
       "    }\n",
       "\n",
       "    .dataframe tbody tr th {\n",
       "        vertical-align: top;\n",
       "    }\n",
       "\n",
       "    .dataframe thead th {\n",
       "        text-align: right;\n",
       "    }\n",
       "</style>\n",
       "<table border=\"1\" class=\"dataframe\">\n",
       "  <thead>\n",
       "    <tr style=\"text-align: right;\">\n",
       "      <th></th>\n",
       "      <th>Unnamed: 0</th>\n",
       "      <th>PHD</th>\n",
       "      <th>MBA</th>\n",
       "      <th>experience</th>\n",
       "      <th>salary</th>\n",
       "    </tr>\n",
       "  </thead>\n",
       "  <tbody>\n",
       "    <tr>\n",
       "      <th>count</th>\n",
       "      <td>17.000000</td>\n",
       "      <td>17.0</td>\n",
       "      <td>17.000000</td>\n",
       "      <td>17.000000</td>\n",
       "      <td>17.000000</td>\n",
       "    </tr>\n",
       "    <tr>\n",
       "      <th>mean</th>\n",
       "      <td>113.588235</td>\n",
       "      <td>1.0</td>\n",
       "      <td>0.705882</td>\n",
       "      <td>15.764706</td>\n",
       "      <td>212128.915989</td>\n",
       "    </tr>\n",
       "    <tr>\n",
       "      <th>std</th>\n",
       "      <td>55.291341</td>\n",
       "      <td>0.0</td>\n",
       "      <td>0.469668</td>\n",
       "      <td>9.107205</td>\n",
       "      <td>64587.073120</td>\n",
       "    </tr>\n",
       "    <tr>\n",
       "      <th>min</th>\n",
       "      <td>27.000000</td>\n",
       "      <td>1.0</td>\n",
       "      <td>0.000000</td>\n",
       "      <td>1.000000</td>\n",
       "      <td>89473.948310</td>\n",
       "    </tr>\n",
       "    <tr>\n",
       "      <th>25%</th>\n",
       "      <td>68.000000</td>\n",
       "      <td>1.0</td>\n",
       "      <td>0.000000</td>\n",
       "      <td>9.000000</td>\n",
       "      <td>172771.669100</td>\n",
       "    </tr>\n",
       "    <tr>\n",
       "      <th>50%</th>\n",
       "      <td>115.000000</td>\n",
       "      <td>1.0</td>\n",
       "      <td>1.000000</td>\n",
       "      <td>14.000000</td>\n",
       "      <td>213011.777800</td>\n",
       "    </tr>\n",
       "    <tr>\n",
       "      <th>75%</th>\n",
       "      <td>162.000000</td>\n",
       "      <td>1.0</td>\n",
       "      <td>1.000000</td>\n",
       "      <td>25.000000</td>\n",
       "      <td>238161.528800</td>\n",
       "    </tr>\n",
       "    <tr>\n",
       "      <th>max</th>\n",
       "      <td>195.000000</td>\n",
       "      <td>1.0</td>\n",
       "      <td>1.000000</td>\n",
       "      <td>30.000000</td>\n",
       "      <td>342048.818200</td>\n",
       "    </tr>\n",
       "  </tbody>\n",
       "</table>\n",
       "</div>"
      ],
      "text/plain": [
       "       Unnamed: 0   PHD        MBA  experience         salary\n",
       "count   17.000000  17.0  17.000000   17.000000      17.000000\n",
       "mean   113.588235   1.0   0.705882   15.764706  212128.915989\n",
       "std     55.291341   0.0   0.469668    9.107205   64587.073120\n",
       "min     27.000000   1.0   0.000000    1.000000   89473.948310\n",
       "25%     68.000000   1.0   0.000000    9.000000  172771.669100\n",
       "50%    115.000000   1.0   1.000000   14.000000  213011.777800\n",
       "75%    162.000000   1.0   1.000000   25.000000  238161.528800\n",
       "max    195.000000   1.0   1.000000   30.000000  342048.818200"
      ]
     },
     "execution_count": 149,
     "metadata": {},
     "output_type": "execute_result"
    }
   ],
   "source": [
    "data4=data.loc[data['PHD'] == 1]\n",
    "data4.describe()"
   ]
  },
  {
   "cell_type": "code",
   "execution_count": 147,
   "metadata": {},
   "outputs": [
    {
     "data": {
      "text/html": [
       "<div>\n",
       "<style scoped>\n",
       "    .dataframe tbody tr th:only-of-type {\n",
       "        vertical-align: middle;\n",
       "    }\n",
       "\n",
       "    .dataframe tbody tr th {\n",
       "        vertical-align: top;\n",
       "    }\n",
       "\n",
       "    .dataframe thead th {\n",
       "        text-align: right;\n",
       "    }\n",
       "</style>\n",
       "<table border=\"1\" class=\"dataframe\">\n",
       "  <thead>\n",
       "    <tr style=\"text-align: right;\">\n",
       "      <th></th>\n",
       "      <th>Unnamed: 0</th>\n",
       "      <th>PHD</th>\n",
       "      <th>MBA</th>\n",
       "      <th>experience</th>\n",
       "      <th>salary</th>\n",
       "    </tr>\n",
       "  </thead>\n",
       "  <tbody>\n",
       "    <tr>\n",
       "      <th>count</th>\n",
       "      <td>12.000000</td>\n",
       "      <td>12.0</td>\n",
       "      <td>12.0</td>\n",
       "      <td>12.000000</td>\n",
       "      <td>12.000000</td>\n",
       "    </tr>\n",
       "    <tr>\n",
       "      <th>mean</th>\n",
       "      <td>114.750000</td>\n",
       "      <td>1.0</td>\n",
       "      <td>1.0</td>\n",
       "      <td>18.250000</td>\n",
       "      <td>221819.412526</td>\n",
       "    </tr>\n",
       "    <tr>\n",
       "      <th>std</th>\n",
       "      <td>58.642406</td>\n",
       "      <td>0.0</td>\n",
       "      <td>0.0</td>\n",
       "      <td>9.761939</td>\n",
       "      <td>72545.168740</td>\n",
       "    </tr>\n",
       "    <tr>\n",
       "      <th>min</th>\n",
       "      <td>27.000000</td>\n",
       "      <td>1.0</td>\n",
       "      <td>1.0</td>\n",
       "      <td>1.000000</td>\n",
       "      <td>89473.948310</td>\n",
       "    </tr>\n",
       "    <tr>\n",
       "      <th>25%</th>\n",
       "      <td>72.000000</td>\n",
       "      <td>1.0</td>\n",
       "      <td>1.0</td>\n",
       "      <td>11.250000</td>\n",
       "      <td>178875.004175</td>\n",
       "    </tr>\n",
       "    <tr>\n",
       "      <th>50%</th>\n",
       "      <td>120.000000</td>\n",
       "      <td>1.0</td>\n",
       "      <td>1.0</td>\n",
       "      <td>21.500000</td>\n",
       "      <td>224831.067450</td>\n",
       "    </tr>\n",
       "    <tr>\n",
       "      <th>75%</th>\n",
       "      <td>165.000000</td>\n",
       "      <td>1.0</td>\n",
       "      <td>1.0</td>\n",
       "      <td>25.250000</td>\n",
       "      <td>261568.177725</td>\n",
       "    </tr>\n",
       "    <tr>\n",
       "      <th>max</th>\n",
       "      <td>195.000000</td>\n",
       "      <td>1.0</td>\n",
       "      <td>1.0</td>\n",
       "      <td>30.000000</td>\n",
       "      <td>342048.818200</td>\n",
       "    </tr>\n",
       "  </tbody>\n",
       "</table>\n",
       "</div>"
      ],
      "text/plain": [
       "       Unnamed: 0   PHD   MBA  experience         salary\n",
       "count   12.000000  12.0  12.0   12.000000      12.000000\n",
       "mean   114.750000   1.0   1.0   18.250000  221819.412526\n",
       "std     58.642406   0.0   0.0    9.761939   72545.168740\n",
       "min     27.000000   1.0   1.0    1.000000   89473.948310\n",
       "25%     72.000000   1.0   1.0   11.250000  178875.004175\n",
       "50%    120.000000   1.0   1.0   21.500000  224831.067450\n",
       "75%    165.000000   1.0   1.0   25.250000  261568.177725\n",
       "max    195.000000   1.0   1.0   30.000000  342048.818200"
      ]
     },
     "execution_count": 147,
     "metadata": {},
     "output_type": "execute_result"
    }
   ],
   "source": [
    "# Both MBA and PHD\n",
    "data2=data.loc[data['MBA'] == 1]\n",
    "data3=data2.loc[data2['PHD'] == 1]\n",
    "data3.describe()"
   ]
  },
  {
   "cell_type": "code",
   "execution_count": null,
   "metadata": {},
   "outputs": [],
   "source": []
  }
 ],
 "metadata": {
  "kernelspec": {
   "display_name": "Python 3",
   "language": "python",
   "name": "python3"
  },
  "language_info": {
   "codemirror_mode": {
    "name": "ipython",
    "version": 3
   },
   "file_extension": ".py",
   "mimetype": "text/x-python",
   "name": "python",
   "nbconvert_exporter": "python",
   "pygments_lexer": "ipython3",
   "version": "3.8.5"
  }
 },
 "nbformat": 4,
 "nbformat_minor": 4
}
